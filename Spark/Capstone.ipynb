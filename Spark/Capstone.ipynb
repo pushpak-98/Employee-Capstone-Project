{
 "cells": [
  {
   "cell_type": "code",
   "execution_count": 3,
   "metadata": {},
   "outputs": [],
   "source": [
    "from pyspark.sql import SparkSession\n",
    "from pyspark.sql.types import *\n",
    "from pyspark.sql.functions import *\n",
    "spark=(SparkSession.builder.appName(\"Capstone\")\\\n",
    "       .config(\"hive.metastore.uris\",\"thrift://ip-10-1-2-24.ap-south-1.compute.internal:9083\")\\\n",
    "       .enableHiveSupport().getOrCreate())\n"
   ]
  },
  {
   "cell_type": "code",
   "execution_count": 4,
   "metadata": {},
   "outputs": [],
   "source": [
    "import pandas as pd\n",
    "import numpy as np\n",
    "import matplotlib.pyplot as plt\n",
    "%matplotlib inline\n",
    "import seaborn as sns"
   ]
  },
  {
   "cell_type": "code",
   "execution_count": 5,
   "metadata": {},
   "outputs": [
    {
     "data": {
      "text/html": [
       "\n",
       "            <div>\n",
       "                <p><b>SparkSession - hive</b></p>\n",
       "                \n",
       "        <div>\n",
       "            <p><b>SparkContext</b></p>\n",
       "\n",
       "            <p><a href=\"http://ip-10-1-1-204.ap-south-1.compute.internal:43016\">Spark UI</a></p>\n",
       "\n",
       "            <dl>\n",
       "              <dt>Version</dt>\n",
       "                <dd><code>v2.4.0</code></dd>\n",
       "              <dt>Master</dt>\n",
       "                <dd><code>local[*]</code></dd>\n",
       "              <dt>AppName</dt>\n",
       "                <dd><code>Capstone</code></dd>\n",
       "            </dl>\n",
       "        </div>\n",
       "        \n",
       "            </div>\n",
       "        "
      ],
      "text/plain": [
       "<pyspark.sql.session.SparkSession at 0x7f3490b98f10>"
      ]
     },
     "execution_count": 5,
     "metadata": {},
     "output_type": "execute_result"
    }
   ],
   "source": [
    "spark"
   ]
  },
  {
   "cell_type": "code",
   "execution_count": 114,
   "metadata": {},
   "outputs": [
    {
     "name": "stdout",
     "output_type": "stream",
     "text": [
      "+-------+--------------------+\n",
      "|dept_no|           dept_name|\n",
      "+-------+--------------------+\n",
      "|   d001|         \"Marketing\"|\n",
      "|   d002|           \"Finance\"|\n",
      "|   d003|   \"Human Resources\"|\n",
      "|   d004|        \"Production\"|\n",
      "|   d005|       \"development\"|\n",
      "|   d006|\"Quality Management\"|\n",
      "|   d007|             \"Sales\"|\n",
      "|   d008|          \"Research\"|\n",
      "|   d009|  \"Customer Service\"|\n",
      "+-------+--------------------+\n",
      "\n"
     ]
    }
   ],
   "source": [
    "spark.sql('select * from departments').show()"
   ]
  },
  {
   "cell_type": "code",
   "execution_count": 7,
   "metadata": {},
   "outputs": [
    {
     "name": "stdout",
     "output_type": "stream",
     "text": [
      "+------+------------+----------+----------+---------+---+----------+--------------+------------------------+-----+---------+\n",
      "|emp_no|emp_title_id|birth_date|first_name|last_name|sex|hire_date |no_of_projects|last_performance_ratings|left1|last_date|\n",
      "+------+------------+----------+----------+---------+---+----------+--------------+------------------------+-----+---------+\n",
      "|10001 |e0003       |09-02-1953|Georgi    |Facello  |M  |6/26/1986 |9             |C                       |true |7/30/1994|\n",
      "|10002 |s0001       |06-02-1964|Bezalel   |Simmel   |F  |11/21/1985|8             |B                       |false|         |\n",
      "|10003 |e0003       |12-03-1959|Parto     |Bamford  |M  |8/28/1986 |1             |C                       |false|         |\n",
      "|10004 |e0003       |05-01-1954|Chirstian |Koblick  |M  |12-01-1986|5             |A                       |false|         |\n",
      "|10005 |s0001       |1/21/1955 |Kyoichi   |Maliniak |M  |09-12-1989|6             |A                       |false|         |\n",
      "|10006 |e0003       |4/20/1953 |Anneke    |Preusig  |F  |06-02-1989|10            |B                       |false|         |\n",
      "|10007 |s0001       |5/23/1957 |Tzvetan   |Zielinski|F  |02-10-1989|6             |B                       |true |9/18/2002|\n",
      "|10008 |e0001       |2/19/1958 |Saniya    |Kalloufi |M  |9/15/1994 |9             |C                       |false|         |\n",
      "|10009 |e0003       |4/19/1952 |Sumant    |Peac     |F  |2/18/1985 |8             |B                       |false|         |\n",
      "|10010 |e0002       |06-01-1963|Duangkaew |Piveteau |F  |8/24/1989 |4             |A                       |false|         |\n",
      "+------+------------+----------+----------+---------+---+----------+--------------+------------------------+-----+---------+\n",
      "only showing top 10 rows\n",
      "\n"
     ]
    }
   ],
   "source": [
    "spark.sql(\"select * from pushpak.employees\").show(10,truncate = False)"
   ]
  },
  {
   "cell_type": "markdown",
   "metadata": {},
   "source": [
    "### Question 1"
   ]
  },
  {
   "cell_type": "code",
   "execution_count": 118,
   "metadata": {},
   "outputs": [
    {
     "name": "stdout",
     "output_type": "stream",
     "text": [
      "+------+-----------+----------+---+------+\n",
      "|emp_no|  last_name|first_name|sex|salary|\n",
      "+------+-----------+----------+---+------+\n",
      "| 10001|    Facello|    Georgi|  M| 60117|\n",
      "| 10002|     Simmel|   Bezalel|  F| 65828|\n",
      "| 10003|    Bamford|     Parto|  M| 40006|\n",
      "| 10004|    Koblick| Chirstian|  M| 40054|\n",
      "| 10005|   Maliniak|   Kyoichi|  M| 78228|\n",
      "| 10006|    Preusig|    Anneke|  F| 40000|\n",
      "| 10007|  Zielinski|   Tzvetan|  F| 56724|\n",
      "| 10008|   Kalloufi|    Saniya|  M| 46671|\n",
      "| 10009|       Peac|    Sumant|  F| 60929|\n",
      "| 10010|   Piveteau| Duangkaew|  F| 72488|\n",
      "| 10011|      Sluis|      Mary|  F| 42365|\n",
      "| 10012|  Bridgland|  Patricio|  M| 40000|\n",
      "| 10013|     Terkki| Eberhardt|  M| 40000|\n",
      "| 10014|      Genin|     Berni|  M| 46168|\n",
      "| 10015|  Nooteboom|  Guoxiang|  M| 40000|\n",
      "| 10016|Cappelletti|  Kazuhito|  M| 70889|\n",
      "| 10017|  Bouloucos| Cristinel|  F| 71380|\n",
      "| 10018|       Peha|  Kazuhide|  F| 55881|\n",
      "| 10019|    Haddadi|   Lillian|  M| 44276|\n",
      "| 10020|    Warwick|    Mayuko|  M| 40000|\n",
      "+------+-----------+----------+---+------+\n",
      "only showing top 20 rows\n",
      "\n"
     ]
    }
   ],
   "source": [
    "spark.sql(\"select s.emp_no, e.last_name, e.first_name, e.sex, s.salary from employees as e inner join salaries as s on s.emp_no = e.emp_no order by s.emp_no\").show()"
   ]
  },
  {
   "cell_type": "code",
   "execution_count": 136,
   "metadata": {},
   "outputs": [
    {
     "name": "stdout",
     "output_type": "stream",
     "text": [
      "+------------+----------+----------+\n",
      "|   last_name|first_name| hire_date|\n",
      "+------------+----------+----------+\n",
      "|     Facello|    Georgi| 6/26/1986|\n",
      "|     Bamford|     Parto| 8/28/1986|\n",
      "|     Koblick| Chirstian|12-01-1986|\n",
      "|    Zschoche|    Sanjiv|02-04-1986|\n",
      "|    Schusler|      Kwee| 2/26/1986|\n",
      "|        Gils|   Kshitij| 3/27/1986|\n",
      "|       Rosen|  Zhongwei|10/30/1986|\n",
      "|     Eugenio|   Xinglin|09-08-1986|\n",
      "|Flasterstein| Sudharsan|08-12-1986|\n",
      "|     Hofting|    Kendra| 3/14/1986|\n",
      "|      Morton|    Hilari| 7/15/1986|\n",
      "|       Birch|     Akemi|12-02-1986|\n",
      "|      Giveon|    Lunjin|10-02-1986|\n",
      "|      Ullian|    Xuejia| 8/22/1986|\n",
      "|    Rissland|   Chikara| 1/23/1986|\n",
      "|    Peltason|  Domenick| 3/14/1986|\n",
      "|    Pintelas|    Zissis|02-11-1986|\n",
      "|   Shimshoni|     Perry| 9/18/1986|\n",
      "| Encarnacion|  Kazuhito| 8/21/1986|\n",
      "|       Perry|   Xiadong|11-05-1986|\n",
      "+------------+----------+----------+\n",
      "only showing top 20 rows\n",
      "\n"
     ]
    }
   ],
   "source": [
    "spark.sql(\"SELECT  last_name, first_name, hire_date  FROM pushpak.employees WHERE hire_date LIKE '%1986%'\").show()"
   ]
  },
  {
   "cell_type": "markdown",
   "metadata": {},
   "source": [
    "### Question 2 "
   ]
  },
  {
   "cell_type": "code",
   "execution_count": 120,
   "metadata": {},
   "outputs": [
    {
     "name": "stdout",
     "output_type": "stream",
     "text": [
      "+-------+------------------+------+-----------+------------+\n",
      "|dept_no|         dept_name|emp_no| first_name|   last_name|\n",
      "+-------+------------------+------+-----------+------------+\n",
      "|   d001|         Marketing|110022|  Margareta|  Markovitch|\n",
      "|   d001|         Marketing|110039|   Vishwani|    Minakawa|\n",
      "|   d002|           Finance|110085|       Ebru|       Alpin|\n",
      "|   d002|           Finance|110114|      Isamu|  Legleitner|\n",
      "|   d003|   Human Resources|110183|    Shirish|Ossenbruggen|\n",
      "|   d003|   Human Resources|110228|    Karsten|     Sigstam|\n",
      "|   d004|        Production|110303|  Krassimir|     Wegerle|\n",
      "|   d004|        Production|110344|     Rosine|       Cools|\n",
      "|   d004|        Production|110386|       Shem|      Kieras|\n",
      "|   d004|        Production|110420|      Oscar|    Ghazalie|\n",
      "|   d005|       development|110511|   DeForest|    Hagimont|\n",
      "|   d005|       development|110567|       Leon|    DasSarma|\n",
      "|   d006|Quality Management|110725|  Peternela|     Onuegbe|\n",
      "|   d006|Quality Management|110765|     Rutger|     Hofmeyr|\n",
      "|   d006|Quality Management|110800|     Sanjoy|     Quadeer|\n",
      "|   d006|Quality Management|110854|       Dung|       Pesch|\n",
      "|   d007|             Sales|111035|Przemyslawa|   Kaelbling|\n",
      "|   d007|             Sales|111133|      Hauke|       Zhang|\n",
      "|   d008|          Research|111400|       Arie|     Staelin|\n",
      "|   d008|          Research|111534|     Hilary|      Kambil|\n",
      "+-------+------------------+------+-----------+------------+\n",
      "only showing top 20 rows\n",
      "\n"
     ]
    }
   ],
   "source": [
    "spark.sql(\"select departments.dept_no,departments.dept_name,dept_mangr.emp_no,employees.first_name, employees.last_name from pushpak.departments inner join pushpak.dept_mangr on departments.dept_no=dept_mangr.dept_no  inner join pushpak.employees on employees.emp_no=dept_mangr.emp_no\").show()"
   ]
  },
  {
   "cell_type": "markdown",
   "metadata": {},
   "source": [
    "### Question 3"
   ]
  },
  {
   "cell_type": "code",
   "execution_count": 193,
   "metadata": {},
   "outputs": [
    {
     "name": "stdout",
     "output_type": "stream",
     "text": [
      "+------+-----------+----------+------------------+\n",
      "|emp_no|  last_name|first_name|         dept_name|\n",
      "+------+-----------+----------+------------------+\n",
      "| 10001|    Facello|    Georgi|       development|\n",
      "| 10002|     Simmel|   Bezalel|             Sales|\n",
      "| 10003|    Bamford|     Parto|        Production|\n",
      "| 10004|    Koblick| Chirstian|        Production|\n",
      "| 10005|   Maliniak|   Kyoichi|   Human Resources|\n",
      "| 10006|    Preusig|    Anneke|       development|\n",
      "| 10007|  Zielinski|   Tzvetan|          Research|\n",
      "| 10008|   Kalloufi|    Saniya|       development|\n",
      "| 10009|       Peac|    Sumant|Quality Management|\n",
      "| 10010|   Piveteau| Duangkaew|Quality Management|\n",
      "| 10010|   Piveteau| Duangkaew|        Production|\n",
      "| 10011|      Sluis|      Mary|  Customer Service|\n",
      "| 10012|  Bridgland|  Patricio|       development|\n",
      "| 10013|     Terkki| Eberhardt|   Human Resources|\n",
      "| 10014|      Genin|     Berni|       development|\n",
      "| 10015|  Nooteboom|  Guoxiang|          Research|\n",
      "| 10016|Cappelletti|  Kazuhito|             Sales|\n",
      "| 10017|  Bouloucos| Cristinel|         Marketing|\n",
      "| 10018|       Peha|  Kazuhide|       development|\n",
      "| 10018|       Peha|  Kazuhide|        Production|\n",
      "+------+-----------+----------+------------------+\n",
      "only showing top 20 rows\n",
      "\n"
     ]
    }
   ],
   "source": [
    "spark.sql(\"select employees.emp_no,employees.last_name,employees.first_name,departments.dept_name from pushpak.employees left join pushpak.dept_emp on employees.emp_no=dept_emp.emp_no left join pushpak.departments on departments.dept_no=dept_emp.dept_no\").show()"
   ]
  },
  {
   "cell_type": "markdown",
   "metadata": {},
   "source": [
    "### Question 4"
   ]
  },
  {
   "cell_type": "code",
   "execution_count": 194,
   "metadata": {
    "scrolled": true
   },
   "outputs": [
    {
     "name": "stdout",
     "output_type": "stream",
     "text": [
      "+----------+-------------+---+\n",
      "|first_name|    last_name|sex|\n",
      "+----------+-------------+---+\n",
      "|  Hercules|   Benzmuller|  M|\n",
      "|  Hercules|      Brendel|  F|\n",
      "|  Hercules|   Baranowski|  M|\n",
      "|  Hercules|     Barreiro|  M|\n",
      "|  Hercules|         Baer|  M|\n",
      "|  Hercules|Bernardinello|  F|\n",
      "|  Hercules|      Basagni|  M|\n",
      "|  Hercules|        Biran|  F|\n",
      "|  Hercules|    Bernatsky|  M|\n",
      "|  Hercules|         Bail|  F|\n",
      "|  Hercules|        Birge|  F|\n",
      "|  Hercules|      Bisiani|  F|\n",
      "|  Hercules|       Bodoff|  M|\n",
      "|  Hercules|        Biron|  F|\n",
      "|  Hercules|      Buchter|  M|\n",
      "|  Hercules|         Bain|  F|\n",
      "|  Hercules|         Bahr|  M|\n",
      "|  Hercules|         Baak|  M|\n",
      "|  Hercules|     Benantar|  F|\n",
      "|  Hercules|      Berstel|  F|\n",
      "+----------+-------------+---+\n",
      "\n"
     ]
    }
   ],
   "source": [
    "spark.sql(\"select first_name,last_name,sex from pushpak.employees where first_name = 'Hercules' and last_name like 'B%'\").show()"
   ]
  },
  {
   "cell_type": "markdown",
   "metadata": {},
   "source": [
    "### Question 5"
   ]
  },
  {
   "cell_type": "code",
   "execution_count": 195,
   "metadata": {
    "scrolled": true
   },
   "outputs": [
    {
     "name": "stdout",
     "output_type": "stream",
     "text": [
      "+------+----------+------------+---------+\n",
      "|emp_no|first_name|   last_name|dept_name|\n",
      "+------+----------+------------+---------+\n",
      "| 10002|   Bezalel|      Simmel|    Sales|\n",
      "| 10016|  Kazuhito| Cappelletti|    Sales|\n",
      "| 10034|     Bader|        Swan|    Sales|\n",
      "| 10041|       Uri|      Lenart|    Sales|\n",
      "| 10050|   Yinghua|      Dredge|    Sales|\n",
      "| 10053|    Sanjiv|    Zschoche|    Sales|\n",
      "| 10060|  Breannda| Billingsley|    Sales|\n",
      "| 10061|       Tse|      Herber|    Sales|\n",
      "| 10068|  Charlene|     Brattka|    Sales|\n",
      "| 10087|   Xinglin|     Eugenio|    Sales|\n",
      "| 10088|  Jungsoon|    Syrzycki|    Sales|\n",
      "| 10089| Sudharsan|Flasterstein|    Sales|\n",
      "| 10093|   Sailaja|     Desikan|    Sales|\n",
      "| 10095|    Hilari|      Morton|    Sales|\n",
      "| 10099|    Valter|     Sullins|    Sales|\n",
      "| 10101|     Perla|      Heyers|    Sales|\n",
      "| 10107|      Dung|        Baca|    Sales|\n",
      "| 10125|     Syozo|     Hiltgen|    Sales|\n",
      "| 10136|    Zissis|    Pintelas|    Sales|\n",
      "| 10148|    Douadi|       Azumi|    Sales|\n",
      "+------+----------+------------+---------+\n",
      "only showing top 20 rows\n",
      "\n"
     ]
    }
   ],
   "source": [
    "spark.sql(\"select employees.emp_no,employees.first_name,employees.last_name,departments.dept_name from pushpak.employees left join pushpak.dept_emp on employees.emp_no=dept_emp.emp_no left join pushpak.departments on departments.dept_no=dept_emp.dept_no where departments.dept_name = 'Sales'\").show()"
   ]
  },
  {
   "cell_type": "markdown",
   "metadata": {},
   "source": [
    "### Question 6"
   ]
  },
  {
   "cell_type": "code",
   "execution_count": 113,
   "metadata": {},
   "outputs": [
    {
     "name": "stdout",
     "output_type": "stream",
     "text": [
      "+------+----------+-----------+-----------+\n",
      "|emp_no|first_name|  last_name|  dept_name|\n",
      "+------+----------+-----------+-----------+\n",
      "| 10001|    Georgi|    Facello|development|\n",
      "| 10002|   Bezalel|     Simmel|      Sales|\n",
      "| 10006|    Anneke|    Preusig|development|\n",
      "| 10008|    Saniya|   Kalloufi|development|\n",
      "| 10012|  Patricio|  Bridgland|development|\n",
      "| 10014|     Berni|      Genin|development|\n",
      "| 10016|  Kazuhito|Cappelletti|      Sales|\n",
      "| 10018|  Kazuhide|       Peha|development|\n",
      "| 10021|     Ramzi|       Erde|development|\n",
      "| 10022|    Shahaf|     Famili|development|\n",
      "| 10023|     Bojan| Montemayor|development|\n",
      "| 10025| Prasadram|     Heyers|development|\n",
      "| 10027|    Divier|    Reistad|development|\n",
      "| 10028|  Domenick|   Tempesti|development|\n",
      "| 10031|   Karsten|     Joslin|development|\n",
      "| 10034|     Bader|       Swan|      Sales|\n",
      "| 10037|   Pradeep|   Makrucki|development|\n",
      "| 10040|     Weiyi|    Meriste|development|\n",
      "| 10041|       Uri|     Lenart|      Sales|\n",
      "| 10043|    Yishay|    Tzvieli|development|\n",
      "+------+----------+-----------+-----------+\n",
      "only showing top 20 rows\n",
      "\n"
     ]
    }
   ],
   "source": [
    "spark.sql(\"select employees.emp_no,employees.first_name,employees.last_name,departments.dept_name from pushpak.employees left join pushpak.dept_emp on employees.emp_no=dept_emp.emp_no left join pushpak.departments on departments.dept_no=dept_emp.dept_no where departments.dept_name like '%Sales%' or departments.dept_name like'%development'\").show()"
   ]
  },
  {
   "cell_type": "markdown",
   "metadata": {},
   "source": [
    "### Question 8"
   ]
  },
  {
   "cell_type": "code",
   "execution_count": 197,
   "metadata": {},
   "outputs": [
    {
     "name": "stdout",
     "output_type": "stream",
     "text": [
      "+-----------+--------+\n",
      "|  last_name|last_nam|\n",
      "+-----------+--------+\n",
      "|       Baba|     226|\n",
      "|      Coorg|     223|\n",
      "|     Gelosh|     223|\n",
      "|    Sudbeck|     222|\n",
      "|     Farris|     222|\n",
      "|     Adachi|     221|\n",
      "|     Osgood|     220|\n",
      "|    Mandell|     218|\n",
      "|     Masada|     218|\n",
      "|     Neiman|     218|\n",
      "|    Wendorf|     217|\n",
      "|Boudaillier|     217|\n",
      "|   Cummings|     216|\n",
      "|     Pettis|     216|\n",
      "|    Solares|     216|\n",
      "|     Mahnke|     216|\n",
      "|    Kulisch|     215|\n",
      "|   Collette|     215|\n",
      "| Maksimenko|     215|\n",
      "|     Emmart|     215|\n",
      "+-----------+--------+\n",
      "only showing top 20 rows\n",
      "\n"
     ]
    }
   ],
   "source": [
    "spark.sql(\"select employees.last_name,count(last_name) as last_nam from pushpak.employees group by employees.last_name order by last_nam desc\").show()"
   ]
  },
  {
   "cell_type": "markdown",
   "metadata": {},
   "source": [
    "### Question 9"
   ]
  },
  {
   "cell_type": "code",
   "execution_count": 373,
   "metadata": {},
   "outputs": [
    {
     "name": "stdout",
     "output_type": "stream",
     "text": [
      "+---------------+------+\n",
      "|No_of_Employees|salary|\n",
      "+---------------+------+\n",
      "|          95346| 40000|\n",
      "|             19| 55581|\n",
      "|             18| 53078|\n",
      "|             18| 53738|\n",
      "|             17| 44564|\n",
      "|             17| 47454|\n",
      "|             17| 45184|\n",
      "|             16| 49416|\n",
      "|             16| 53783|\n",
      "|             16| 43710|\n",
      "|             16| 45050|\n",
      "|             16| 47038|\n",
      "|             16| 43995|\n",
      "|             16| 51499|\n",
      "|             15| 42088|\n",
      "|             15| 45211|\n",
      "|             15| 53876|\n",
      "|             15| 43726|\n",
      "|             15| 46310|\n",
      "|             15| 50952|\n",
      "+---------------+------+\n",
      "only showing top 20 rows\n",
      "\n"
     ]
    }
   ],
   "source": [
    "salaries = spark.sql(\"select count(salary) AS No_of_Employees,  salary from pushpak.salaries group by salary order by count(salary) desc \");\n",
    "salaries.show()"
   ]
  },
  {
   "cell_type": "markdown",
   "metadata": {},
   "source": [
    "### DATAFRAME CREATION"
   ]
  },
  {
   "cell_type": "code",
   "execution_count": 8,
   "metadata": {
    "scrolled": true
   },
   "outputs": [],
   "source": [
    "departments = spark.sql('select * from pushpak.departments')"
   ]
  },
  {
   "cell_type": "code",
   "execution_count": 10,
   "metadata": {},
   "outputs": [
    {
     "name": "stdout",
     "output_type": "stream",
     "text": [
      "+-------+------------------+\n",
      "|dept_no|         dept_name|\n",
      "+-------+------------------+\n",
      "|   d001|         Marketing|\n",
      "|   d002|           Finance|\n",
      "|   d003|   Human Resources|\n",
      "|   d004|        Production|\n",
      "|   d005|       development|\n",
      "|   d006|Quality Management|\n",
      "|   d007|             Sales|\n",
      "|   d008|          Research|\n",
      "|   d009|  Customer Service|\n",
      "+-------+------------------+\n",
      "\n"
     ]
    }
   ],
   "source": [
    "departments.show()"
   ]
  },
  {
   "cell_type": "code",
   "execution_count": 11,
   "metadata": {},
   "outputs": [],
   "source": [
    "employees = spark.sql('select * from pushpak.employees')"
   ]
  },
  {
   "cell_type": "code",
   "execution_count": 12,
   "metadata": {},
   "outputs": [],
   "source": [
    "salaries = spark.sql(\"select * from pushpak.salaries\")"
   ]
  },
  {
   "cell_type": "code",
   "execution_count": 13,
   "metadata": {},
   "outputs": [],
   "source": [
    "titles = spark.sql(\"select * from pushpak.title\")"
   ]
  },
  {
   "cell_type": "code",
   "execution_count": 14,
   "metadata": {},
   "outputs": [],
   "source": [
    "dept_emp = spark.sql(\"select * from pushpak.dept_emp\")"
   ]
  },
  {
   "cell_type": "code",
   "execution_count": 15,
   "metadata": {},
   "outputs": [],
   "source": [
    "dept_mangr = spark.sql(\"select *from pushpak.dept_mangr\")"
   ]
  },
  {
   "cell_type": "code",
   "execution_count": 74,
   "metadata": {},
   "outputs": [],
   "source": [
    "df =  employees.join(dept_emp,on=\"emp_no\",how=\"left\").join(salaries,on=\"emp_no\",how=\"left\").join(titles,employees.emp_title_id==titles.title_id).join(departments,on=\"dept_no\",how=\"left\")"
   ]
  },
  {
   "cell_type": "code",
   "execution_count": 75,
   "metadata": {},
   "outputs": [],
   "source": [
    "df=df.withColumn('Left1',df.left1.cast(\"integer\"))"
   ]
  },
  {
   "cell_type": "code",
   "execution_count": 76,
   "metadata": {},
   "outputs": [],
   "source": [
    "df=df.withColumnRenamed('Left1','label')"
   ]
  },
  {
   "cell_type": "code",
   "execution_count": 77,
   "metadata": {},
   "outputs": [
    {
     "name": "stdout",
     "output_type": "stream",
     "text": [
      "root\n",
      " |-- dept_no: string (nullable = true)\n",
      " |-- emp_no: integer (nullable = true)\n",
      " |-- emp_title_id: string (nullable = true)\n",
      " |-- birth_date: string (nullable = true)\n",
      " |-- first_name: string (nullable = true)\n",
      " |-- last_name: string (nullable = true)\n",
      " |-- sex: string (nullable = true)\n",
      " |-- hire_date: string (nullable = true)\n",
      " |-- no_of_projects: integer (nullable = true)\n",
      " |-- last_performance_ratings: string (nullable = true)\n",
      " |-- label: integer (nullable = true)\n",
      " |-- last_date: string (nullable = true)\n",
      " |-- salary: integer (nullable = true)\n",
      " |-- title_id: string (nullable = true)\n",
      " |-- titles: string (nullable = true)\n",
      " |-- dept_name: string (nullable = true)\n",
      "\n"
     ]
    }
   ],
   "source": [
    "df.printSchema()"
   ]
  },
  {
   "cell_type": "code",
   "execution_count": 20,
   "metadata": {},
   "outputs": [
    {
     "name": "stdout",
     "output_type": "stream",
     "text": [
      "+-------+------+------------+----------+----------+---------+---+---------+--------------+------------------------+-----+---------+------+--------+---------------+-----------+\n",
      "|dept_no|emp_no|emp_title_id|birth_date|first_name|last_name|sex|hire_date|no_of_projects|last_performance_ratings|label|last_date|salary|title_id|titles         |dept_name  |\n",
      "+-------+------+------------+----------+----------+---------+---+---------+--------------+------------------------+-----+---------+------+--------+---------------+-----------+\n",
      "|d005   |10001 |e0003       |09-02-1953|Georgi    |Facello  |M  |6/26/1986|9             |C                       |1    |7/30/1994|60117 |e0003   |Senior Engineer|development|\n",
      "+-------+------+------------+----------+----------+---------+---+---------+--------------+------------------------+-----+---------+------+--------+---------------+-----------+\n",
      "only showing top 1 row\n",
      "\n"
     ]
    }
   ],
   "source": [
    "df.show(1, truncate= False)"
   ]
  },
  {
   "cell_type": "code",
   "execution_count": 21,
   "metadata": {},
   "outputs": [],
   "source": [
    "df1 = df.toPandas()"
   ]
  },
  {
   "cell_type": "code",
   "execution_count": 40,
   "metadata": {},
   "outputs": [
    {
     "data": {
      "text/html": [
       "<div>\n",
       "<style scoped>\n",
       "    .dataframe tbody tr th:only-of-type {\n",
       "        vertical-align: middle;\n",
       "    }\n",
       "\n",
       "    .dataframe tbody tr th {\n",
       "        vertical-align: top;\n",
       "    }\n",
       "\n",
       "    .dataframe thead th {\n",
       "        text-align: right;\n",
       "    }\n",
       "</style>\n",
       "<table border=\"1\" class=\"dataframe\">\n",
       "  <thead>\n",
       "    <tr style=\"text-align: right;\">\n",
       "      <th></th>\n",
       "      <th>dept_no</th>\n",
       "      <th>emp_no</th>\n",
       "      <th>emp_title_id</th>\n",
       "      <th>birth_date</th>\n",
       "      <th>first_name</th>\n",
       "      <th>last_name</th>\n",
       "      <th>sex</th>\n",
       "      <th>hire_date</th>\n",
       "      <th>no_of_projects</th>\n",
       "      <th>last_performance_ratings</th>\n",
       "      <th>label</th>\n",
       "      <th>last_date</th>\n",
       "      <th>salary</th>\n",
       "      <th>title_id</th>\n",
       "      <th>titles</th>\n",
       "      <th>dept_name</th>\n",
       "    </tr>\n",
       "  </thead>\n",
       "  <tbody>\n",
       "    <tr>\n",
       "      <th>0</th>\n",
       "      <td>d005</td>\n",
       "      <td>10001</td>\n",
       "      <td>e0003</td>\n",
       "      <td>09-02-1953</td>\n",
       "      <td>Georgi</td>\n",
       "      <td>Facello</td>\n",
       "      <td>M</td>\n",
       "      <td>6/26/1986</td>\n",
       "      <td>9</td>\n",
       "      <td>C</td>\n",
       "      <td>1</td>\n",
       "      <td>7/30/1994</td>\n",
       "      <td>60117</td>\n",
       "      <td>e0003</td>\n",
       "      <td>Senior Engineer</td>\n",
       "      <td>development</td>\n",
       "    </tr>\n",
       "    <tr>\n",
       "      <th>1</th>\n",
       "      <td>d007</td>\n",
       "      <td>10002</td>\n",
       "      <td>s0001</td>\n",
       "      <td>06-02-1964</td>\n",
       "      <td>Bezalel</td>\n",
       "      <td>Simmel</td>\n",
       "      <td>F</td>\n",
       "      <td>11/21/1985</td>\n",
       "      <td>8</td>\n",
       "      <td>B</td>\n",
       "      <td>0</td>\n",
       "      <td></td>\n",
       "      <td>65828</td>\n",
       "      <td>s0001</td>\n",
       "      <td>Staff</td>\n",
       "      <td>Sales</td>\n",
       "    </tr>\n",
       "    <tr>\n",
       "      <th>2</th>\n",
       "      <td>d004</td>\n",
       "      <td>10003</td>\n",
       "      <td>e0003</td>\n",
       "      <td>12-03-1959</td>\n",
       "      <td>Parto</td>\n",
       "      <td>Bamford</td>\n",
       "      <td>M</td>\n",
       "      <td>8/28/1986</td>\n",
       "      <td>1</td>\n",
       "      <td>C</td>\n",
       "      <td>0</td>\n",
       "      <td></td>\n",
       "      <td>40006</td>\n",
       "      <td>e0003</td>\n",
       "      <td>Senior Engineer</td>\n",
       "      <td>Production</td>\n",
       "    </tr>\n",
       "    <tr>\n",
       "      <th>3</th>\n",
       "      <td>d004</td>\n",
       "      <td>10004</td>\n",
       "      <td>e0003</td>\n",
       "      <td>05-01-1954</td>\n",
       "      <td>Chirstian</td>\n",
       "      <td>Koblick</td>\n",
       "      <td>M</td>\n",
       "      <td>12-01-1986</td>\n",
       "      <td>5</td>\n",
       "      <td>A</td>\n",
       "      <td>0</td>\n",
       "      <td></td>\n",
       "      <td>40054</td>\n",
       "      <td>e0003</td>\n",
       "      <td>Senior Engineer</td>\n",
       "      <td>Production</td>\n",
       "    </tr>\n",
       "    <tr>\n",
       "      <th>4</th>\n",
       "      <td>d003</td>\n",
       "      <td>10005</td>\n",
       "      <td>s0001</td>\n",
       "      <td>1/21/1955</td>\n",
       "      <td>Kyoichi</td>\n",
       "      <td>Maliniak</td>\n",
       "      <td>M</td>\n",
       "      <td>09-12-1989</td>\n",
       "      <td>6</td>\n",
       "      <td>A</td>\n",
       "      <td>0</td>\n",
       "      <td></td>\n",
       "      <td>78228</td>\n",
       "      <td>s0001</td>\n",
       "      <td>Staff</td>\n",
       "      <td>Human Resources</td>\n",
       "    </tr>\n",
       "    <tr>\n",
       "      <th>...</th>\n",
       "      <td>...</td>\n",
       "      <td>...</td>\n",
       "      <td>...</td>\n",
       "      <td>...</td>\n",
       "      <td>...</td>\n",
       "      <td>...</td>\n",
       "      <td>...</td>\n",
       "      <td>...</td>\n",
       "      <td>...</td>\n",
       "      <td>...</td>\n",
       "      <td>...</td>\n",
       "      <td>...</td>\n",
       "      <td>...</td>\n",
       "      <td>...</td>\n",
       "      <td>...</td>\n",
       "      <td>...</td>\n",
       "    </tr>\n",
       "    <tr>\n",
       "      <th>331598</th>\n",
       "      <td>d004</td>\n",
       "      <td>499995</td>\n",
       "      <td>e0002</td>\n",
       "      <td>9/24/1958</td>\n",
       "      <td>Dekang</td>\n",
       "      <td>Lichtner</td>\n",
       "      <td>F</td>\n",
       "      <td>01-12-1993</td>\n",
       "      <td>5</td>\n",
       "      <td>B</td>\n",
       "      <td>0</td>\n",
       "      <td></td>\n",
       "      <td>40000</td>\n",
       "      <td>e0002</td>\n",
       "      <td>Engineer</td>\n",
       "      <td>Production</td>\n",
       "    </tr>\n",
       "    <tr>\n",
       "      <th>331599</th>\n",
       "      <td>d004</td>\n",
       "      <td>499996</td>\n",
       "      <td>e0003</td>\n",
       "      <td>03-07-1953</td>\n",
       "      <td>Zito</td>\n",
       "      <td>Baaz</td>\n",
       "      <td>M</td>\n",
       "      <td>9/27/1990</td>\n",
       "      <td>8</td>\n",
       "      <td>B</td>\n",
       "      <td>1</td>\n",
       "      <td>12/15/1995</td>\n",
       "      <td>58058</td>\n",
       "      <td>e0003</td>\n",
       "      <td>Senior Engineer</td>\n",
       "      <td>Production</td>\n",
       "    </tr>\n",
       "    <tr>\n",
       "      <th>331600</th>\n",
       "      <td>d005</td>\n",
       "      <td>499997</td>\n",
       "      <td>e0003</td>\n",
       "      <td>08-03-1961</td>\n",
       "      <td>Berhard</td>\n",
       "      <td>Lenart</td>\n",
       "      <td>M</td>\n",
       "      <td>4/21/1986</td>\n",
       "      <td>10</td>\n",
       "      <td>B</td>\n",
       "      <td>0</td>\n",
       "      <td></td>\n",
       "      <td>49597</td>\n",
       "      <td>e0003</td>\n",
       "      <td>Senior Engineer</td>\n",
       "      <td>development</td>\n",
       "    </tr>\n",
       "    <tr>\n",
       "      <th>331601</th>\n",
       "      <td>d002</td>\n",
       "      <td>499998</td>\n",
       "      <td>s0001</td>\n",
       "      <td>09-05-1956</td>\n",
       "      <td>Patricia</td>\n",
       "      <td>Breugel</td>\n",
       "      <td>M</td>\n",
       "      <td>10/13/1993</td>\n",
       "      <td>1</td>\n",
       "      <td>B</td>\n",
       "      <td>0</td>\n",
       "      <td></td>\n",
       "      <td>40000</td>\n",
       "      <td>s0001</td>\n",
       "      <td>Staff</td>\n",
       "      <td>Finance</td>\n",
       "    </tr>\n",
       "    <tr>\n",
       "      <th>331602</th>\n",
       "      <td>d004</td>\n",
       "      <td>499999</td>\n",
       "      <td>e0002</td>\n",
       "      <td>05-01-1958</td>\n",
       "      <td>Sachin</td>\n",
       "      <td>Tsukuda</td>\n",
       "      <td>M</td>\n",
       "      <td>11/30/1997</td>\n",
       "      <td>8</td>\n",
       "      <td>A</td>\n",
       "      <td>0</td>\n",
       "      <td></td>\n",
       "      <td>63707</td>\n",
       "      <td>e0002</td>\n",
       "      <td>Engineer</td>\n",
       "      <td>Production</td>\n",
       "    </tr>\n",
       "  </tbody>\n",
       "</table>\n",
       "<p>331603 rows × 16 columns</p>\n",
       "</div>"
      ],
      "text/plain": [
       "       dept_no  emp_no emp_title_id  birth_date first_name last_name sex  \\\n",
       "0         d005   10001        e0003  09-02-1953     Georgi   Facello   M   \n",
       "1         d007   10002        s0001  06-02-1964    Bezalel    Simmel   F   \n",
       "2         d004   10003        e0003  12-03-1959      Parto   Bamford   M   \n",
       "3         d004   10004        e0003  05-01-1954  Chirstian   Koblick   M   \n",
       "4         d003   10005        s0001   1/21/1955    Kyoichi  Maliniak   M   \n",
       "...        ...     ...          ...         ...        ...       ...  ..   \n",
       "331598    d004  499995        e0002   9/24/1958     Dekang  Lichtner   F   \n",
       "331599    d004  499996        e0003  03-07-1953       Zito      Baaz   M   \n",
       "331600    d005  499997        e0003  08-03-1961    Berhard    Lenart   M   \n",
       "331601    d002  499998        s0001  09-05-1956   Patricia   Breugel   M   \n",
       "331602    d004  499999        e0002  05-01-1958     Sachin   Tsukuda   M   \n",
       "\n",
       "         hire_date  no_of_projects last_performance_ratings  label  \\\n",
       "0        6/26/1986               9                        C      1   \n",
       "1       11/21/1985               8                        B      0   \n",
       "2        8/28/1986               1                        C      0   \n",
       "3       12-01-1986               5                        A      0   \n",
       "4       09-12-1989               6                        A      0   \n",
       "...            ...             ...                      ...    ...   \n",
       "331598  01-12-1993               5                        B      0   \n",
       "331599   9/27/1990               8                        B      1   \n",
       "331600   4/21/1986              10                        B      0   \n",
       "331601  10/13/1993               1                        B      0   \n",
       "331602  11/30/1997               8                        A      0   \n",
       "\n",
       "         last_date  salary title_id           titles        dept_name  \n",
       "0        7/30/1994   60117    e0003  Senior Engineer      development  \n",
       "1                    65828    s0001            Staff            Sales  \n",
       "2                    40006    e0003  Senior Engineer       Production  \n",
       "3                    40054    e0003  Senior Engineer       Production  \n",
       "4                    78228    s0001            Staff  Human Resources  \n",
       "...            ...     ...      ...              ...              ...  \n",
       "331598               40000    e0002         Engineer       Production  \n",
       "331599  12/15/1995   58058    e0003  Senior Engineer       Production  \n",
       "331600               49597    e0003  Senior Engineer      development  \n",
       "331601               40000    s0001            Staff          Finance  \n",
       "331602               63707    e0002         Engineer       Production  \n",
       "\n",
       "[331603 rows x 16 columns]"
      ]
     },
     "execution_count": 40,
     "metadata": {},
     "output_type": "execute_result"
    }
   ],
   "source": [
    "df1.fillna(\"NaN\")"
   ]
  },
  {
   "cell_type": "markdown",
   "metadata": {},
   "source": [
    "# GRAPHS"
   ]
  },
  {
   "cell_type": "markdown",
   "metadata": {},
   "source": [
    "### Question 10"
   ]
  },
  {
   "cell_type": "code",
   "execution_count": 28,
   "metadata": {},
   "outputs": [
    {
     "data": {
      "image/png": "[encoded data removed]",
      "text/plain": [
       "<Figure size 432x288 with 1 Axes>"
      ]
     },
     "metadata": {
      "needs_background": "light"
     },
     "output_type": "display_data"
    }
   ],
   "source": [
    "#Frequency Histogram of employee salaries\n",
    "\n",
    "# Set title\n",
    "# Creating histogram\n",
    "salary_dist=df1.groupby([\"emp_no\"])[(\"salary\")].sum()\n",
    "fig, ax = plt.subplots(1, 1)\n",
    "ax.hist(salary_dist)\n",
    "ax.set_title(\"Frequency Historgam of Employee Salaries\")\n",
    "ax.grid()\n",
    "# adding labels\n",
    "ax.set_xlabel('Salary')\n",
    "ax.set_ylabel('Number of Employees')\n",
    "plt.savefig(\"Frequency Historgam of Employee Salaries.jpg\")"
   ]
  },
  {
   "cell_type": "code",
   "execution_count": 30,
   "metadata": {},
   "outputs": [
    {
     "data": {
      "image/png": "[encoded data removed]",
      "text/plain": [
       "<Figure size 432x288 with 1 Axes>"
      ]
     },
     "metadata": {
      "needs_background": "light"
     },
     "output_type": "display_data"
    },
    {
     "data": {
      "text/plain": [
       "<Figure size 432x288 with 0 Axes>"
      ]
     },
     "metadata": {},
     "output_type": "display_data"
    }
   ],
   "source": [
    "# Visualizind salary ranges\n",
    "sal_bin = list(df1.salary)\n",
    "num_bins = 14\n",
    "n, bins, patches = plt.hist(sal_bin, num_bins, facecolor='blue', alpha=0.5, orientation='horizontal')\n",
    "plt.title('Salary Ranges', fontsize = 15)\n",
    "plt.ylabel('Salaries', fontsize=13)\n",
    "plt.xlabel('Frequency',fontsize=13)\n",
    "plt.ylim(37000, 110000)\n",
    "plt.xlim(0, 140000)\n",
    "plt.show()\n",
    "plt.savefig(\"Salary Ranges.jpg\")\n"
   ]
  },
  {
   "cell_type": "code",
   "execution_count": 109,
   "metadata": {},
   "outputs": [
    {
     "data": {
      "text/plain": [
       "Text(0.5, 1.0, 'Employees Salary Distribution')"
      ]
     },
     "execution_count": 109,
     "metadata": {},
     "output_type": "execute_result"
    },
    {
     "data": {
      "image/png": "[encoded data removed]",
      "text/plain": [
       "<Figure size 432x288 with 1 Axes>"
      ]
     },
     "metadata": {
      "needs_background": "light"
     },
     "output_type": "display_data"
    }
   ],
   "source": [
    "sns.distplot(df1['salary'])\n",
    "plt.title('Employees Salary Distribution', fontsize=12)"
   ]
  },
  {
   "cell_type": "code",
   "execution_count": 34,
   "metadata": {},
   "outputs": [
    {
     "data": {
      "text/html": [
       "<div>\n",
       "<style scoped>\n",
       "    .dataframe tbody tr th:only-of-type {\n",
       "        vertical-align: middle;\n",
       "    }\n",
       "\n",
       "    .dataframe tbody tr th {\n",
       "        vertical-align: top;\n",
       "    }\n",
       "\n",
       "    .dataframe thead th {\n",
       "        text-align: right;\n",
       "    }\n",
       "</style>\n",
       "<table border=\"1\" class=\"dataframe\">\n",
       "  <thead>\n",
       "    <tr style=\"text-align: right;\">\n",
       "      <th></th>\n",
       "      <th>titles</th>\n",
       "      <th>salary</th>\n",
       "    </tr>\n",
       "  </thead>\n",
       "  <tbody>\n",
       "    <tr>\n",
       "      <th>0</th>\n",
       "      <td>Assistant Engineer</td>\n",
       "      <td>48615.074794</td>\n",
       "    </tr>\n",
       "    <tr>\n",
       "      <th>1</th>\n",
       "      <td>Engineer</td>\n",
       "      <td>48533.339845</td>\n",
       "    </tr>\n",
       "    <tr>\n",
       "      <th>2</th>\n",
       "      <td>Manager</td>\n",
       "      <td>51531.041667</td>\n",
       "    </tr>\n",
       "    <tr>\n",
       "      <th>3</th>\n",
       "      <td>Senior Engineer</td>\n",
       "      <td>48505.714313</td>\n",
       "    </tr>\n",
       "    <tr>\n",
       "      <th>4</th>\n",
       "      <td>Senior Staff</td>\n",
       "      <td>58557.394072</td>\n",
       "    </tr>\n",
       "    <tr>\n",
       "      <th>5</th>\n",
       "      <td>Staff</td>\n",
       "      <td>58460.049489</td>\n",
       "    </tr>\n",
       "    <tr>\n",
       "      <th>6</th>\n",
       "      <td>Technique Leader</td>\n",
       "      <td>48574.320997</td>\n",
       "    </tr>\n",
       "  </tbody>\n",
       "</table>\n",
       "</div>"
      ],
      "text/plain": [
       "               titles        salary\n",
       "0  Assistant Engineer  48615.074794\n",
       "1            Engineer  48533.339845\n",
       "2             Manager  51531.041667\n",
       "3     Senior Engineer  48505.714313\n",
       "4        Senior Staff  58557.394072\n",
       "5               Staff  58460.049489\n",
       "6    Technique Leader  48574.320997"
      ]
     },
     "execution_count": 34,
     "metadata": {},
     "output_type": "execute_result"
    }
   ],
   "source": [
    "#merge1 = df1.merge(emp_df, left_on='emp_no', right_on='emp_no')\n",
    "#merge2 = merge1.merge(title_df, left_on='emp_title_id', right_on='title_id')\n",
    "bars = df1.groupby([\"titles\"])\n",
    "bars = pd.DataFrame(bars[\"salary\"].mean())\n",
    "bars = bars.reset_index(drop=False)\n",
    "bars.head(10)"
   ]
  },
  {
   "cell_type": "code",
   "execution_count": 39,
   "metadata": {},
   "outputs": [
    {
     "data": {
      "image/png": "[encoded data removed]",
      "text/plain": [
       "<Figure size 864x360 with 1 Axes>"
      ]
     },
     "metadata": {
      "needs_background": "light"
     },
     "output_type": "display_data"
    },
    {
     "data": {
      "text/plain": [
       "<Figure size 432x288 with 0 Axes>"
      ]
     },
     "metadata": {},
     "output_type": "display_data"
    }
   ],
   "source": [
    "# Visualizing average salaries by title\n",
    "x_axis= np.arange(len(bars))\n",
    "y_axis = bars[\"salary\"]\n",
    "plt.figure(figsize=(12,5))\n",
    "bar_chart = plt.barh(x_axis, y_axis, color = 'b', alpha= 0.5, align='center', label='Average Salaries by Title') \n",
    "plt.xlim(0,65000)\n",
    "plt.ylim(-0.75,7)\n",
    "\n",
    "plt.title('Average Salaries by Titles', fontsize=18)\n",
    "plt.xlabel(\"Average Salary\", fontsize=15)\n",
    "plt.ylabel(\"Titles\", fontsize=15)\n",
    "plt.legend(loc='best')\n",
    "\n",
    "tick_locations = [value for value in x_axis]\n",
    "plt.yticks(tick_locations, bars['titles'], rotation=\"horizontal\")\n",
    "plt.grid(True, linestyle='--', which='major', color='grey', alpha=.25)\n",
    "plt.show()\n",
    "plt.savefig(\"Average Salary by title.jpg\")\n"
   ]
  },
  {
   "cell_type": "markdown",
   "metadata": {},
   "source": [
    "According to this bar chart, there is very little difference in average salary amongst many of these types of positions. Going from Assistant Engineer -> Engineer -> Senior Engineer and also from Staff -> Senior Staff makes very little difference as there is nearly no pay boost. In fact, Senior Engineers make slightly LESS than more junior engineer. In addition, employee salary does not increase at all when they get a promotion according to the table above. "
   ]
  },
  {
   "cell_type": "code",
   "execution_count": 111,
   "metadata": {
    "scrolled": true
   },
   "outputs": [
    {
     "data": {
      "text/plain": [
       "Text(0.5, 1.0, 'Salary vs Gender Box Plot')"
      ]
     },
     "execution_count": 111,
     "metadata": {},
     "output_type": "execute_result"
    },
    {
     "data": {
      "image/png": "[encoded data removed]",
      "text/plain": [
       "<Figure size 432x288 with 1 Axes>"
      ]
     },
     "metadata": {
      "needs_background": "light"
     },
     "output_type": "display_data"
    }
   ],
   "source": [
    "sns.boxplot(df1['sex'], df1['salary'])\n",
    "plt.title('Salary vs Gender Box Plot', fontsize=12)"
   ]
  },
  {
   "cell_type": "code",
   "execution_count": 112,
   "metadata": {},
   "outputs": [
    {
     "data": {
      "text/plain": [
       "Text(0.5, 1.0, 'Average Management Salary by Department')"
      ]
     },
     "execution_count": 112,
     "metadata": {},
     "output_type": "execute_result"
    },
    {
     "data": {
      "image/png": "[encoded data removed]",
      "text/plain": [
       "<Figure size 432x288 with 1 Axes>"
      ]
     },
     "metadata": {
      "needs_background": "light"
     },
     "output_type": "display_data"
    }
   ],
   "source": [
    "dept = df1.groupby('dept_name')['salary'].mean().sort_values()\n",
    "dept.plot(kind='barh')\n",
    "plt.title('Average Management Salary by Department', fontsize=12)"
   ]
  },
  {
   "cell_type": "markdown",
   "metadata": {},
   "source": [
    "### OBSERVATION ON DATA"
   ]
  },
  {
   "cell_type": "code",
   "execution_count": 41,
   "metadata": {},
   "outputs": [
    {
     "name": "stdout",
     "output_type": "stream",
     "text": [
      "The employee data has 331603 rows & 16 columns.\n"
     ]
    }
   ],
   "source": [
    "print(\"The employee data has {} rows & {} columns.\" .format(df1.shape[0], df1.shape[1]))"
   ]
  },
  {
   "cell_type": "code",
   "execution_count": 42,
   "metadata": {},
   "outputs": [
    {
     "name": "stdout",
     "output_type": "stream",
     "text": [
      "Sex counts in the data: \n",
      "M    198850\n",
      "F    132753\n",
      "Name: sex, dtype: int64\n",
      "------------------------------------------------------------------------------------------------------------------------------\n"
     ]
    }
   ],
   "source": [
    "print(\"Sex counts in the data: \")\n",
    "print(df1['sex'].value_counts())\n",
    "print(\"------------------------------------------------------------------------------------------------------------------------------\")\n",
    "\n"
   ]
  },
  {
   "cell_type": "code",
   "execution_count": 43,
   "metadata": {},
   "outputs": [
    {
     "name": "stdout",
     "output_type": "stream",
     "text": [
      "Departments counts in the data: \n",
      "development           85707\n",
      "Production            73485\n",
      "Sales                 52245\n",
      "Customer Service      23580\n",
      "Research              21126\n",
      "Marketing             20211\n",
      "Quality Management    20117\n",
      "Human Resources       17786\n",
      "Finance               17346\n",
      "Name: dept_name, dtype: int64\n",
      "------------------------------------------------------------------------------------------------------------------------------\n"
     ]
    }
   ],
   "source": [
    "print(\"Departments counts in the data: \")\n",
    "print(df1['dept_name'].value_counts())\n",
    "print(\"------------------------------------------------------------------------------------------------------------------------------\")\n"
   ]
  },
  {
   "cell_type": "code",
   "execution_count": 45,
   "metadata": {},
   "outputs": [
    {
     "name": "stdout",
     "output_type": "stream",
     "text": [
      "0    298582\n",
      "1     33021\n",
      "Name: label, dtype: int64\n"
     ]
    }
   ],
   "source": [
    "print(df1['label'].value_counts().head(10))\n"
   ]
  },
  {
   "cell_type": "code",
   "execution_count": 46,
   "metadata": {},
   "outputs": [
    {
     "data": {
      "text/plain": [
       "development           8508\n",
       "Production            7389\n",
       "Sales                 5209\n",
       "Customer Service      2414\n",
       "Research              2098\n",
       "Quality Management    2018\n",
       "Marketing             1941\n",
       "Human Resources       1797\n",
       "Finance               1647\n",
       "Name: dept_name, dtype: int64"
      ]
     },
     "execution_count": 46,
     "metadata": {},
     "output_type": "execute_result"
    }
   ],
   "source": [
    "df1[df1.label==1.0].dept_name.value_counts()\n"
   ]
  },
  {
   "cell_type": "code",
   "execution_count": 47,
   "metadata": {},
   "outputs": [
    {
     "name": "stdout",
     "output_type": "stream",
     "text": [
      "Count's of employees leaving by Gender: \n",
      "M    19843\n",
      "F    13178\n",
      "Name: sex, dtype: int64\n",
      "------------------------------------------------------------------------------------------------\n"
     ]
    }
   ],
   "source": [
    "print(\"Count's of employees leaving by Gender: \")\n",
    "print(df1[df1.label==1.0].sex.value_counts())\n",
    "print(\"------------------------------------------------------------------------------------------------\")"
   ]
  },
  {
   "cell_type": "code",
   "execution_count": 48,
   "metadata": {},
   "outputs": [
    {
     "name": "stdout",
     "output_type": "stream",
     "text": [
      "Joning dates of the employee's in the company\n",
      "3/21/1985     147\n",
      "5/24/1985     144\n",
      "6/20/1985     144\n",
      "9/22/1985     144\n",
      "5/26/1985     143\n",
      "10/28/1985    140\n",
      "3/30/1985     140\n",
      "05-11-1985    140\n",
      "8/15/1985     140\n",
      "03-07-1985    140\n",
      "Name: hire_date, dtype: int64\n",
      "------------------------------------------------------------------------------------------------------------------------------\n"
     ]
    }
   ],
   "source": [
    "#Joining dates in the company by year\n",
    "\n",
    "print(\"Joning dates of the employee's in the company\")\n",
    "\n",
    "#Check which year or month when employees hired most\n",
    "print(df1['hire_date'].value_counts().head(10))\n",
    "print(\"------------------------------------------------------------------------------------------------------------------------------\")\n"
   ]
  },
  {
   "cell_type": "code",
   "execution_count": 50,
   "metadata": {},
   "outputs": [],
   "source": [
    "continuous_features = ['no_of_projects','salary']\n",
    "\n",
    "categorical_features = ['dept_name','dept_no','titles']"
   ]
  },
  {
   "cell_type": "code",
   "execution_count": 78,
   "metadata": {},
   "outputs": [],
   "source": [
    "#Encoding all categorical features\n",
    "from pyspark.ml.feature import OneHotEncoder, StringIndexer, VectorAssembler, PolynomialExpansion, VectorIndexer\n",
    "from pyspark.ml.linalg import Vectors"
   ]
  },
  {
   "cell_type": "code",
   "execution_count": 79,
   "metadata": {},
   "outputs": [],
   "source": [
    "SI_Departments = StringIndexer(inputCol='dept_name',outputCol='Departments_IDx')\n",
    "SI_Dept_No = StringIndexer(inputCol='dept_no',outputCol='Dept_No_IDx')\n",
    "SI_Titles = StringIndexer(inputCol='titles',outputCol='Titles_IDx')\n",
    "\n",
    "\n",
    "# transform the data\n",
    "df= SI_Departments.fit(df).transform(df)\n",
    "df = SI_Dept_No.fit(df).transform(df)\n",
    "df = SI_Titles.fit(df).transform(df)\n",
    "\n",
    "\n"
   ]
  },
  {
   "cell_type": "code",
   "execution_count": 80,
   "metadata": {},
   "outputs": [
    {
     "name": "stdout",
     "output_type": "stream",
     "text": [
      "+-------+-----------+------------------+---------------+------------------+----------+\n",
      "|dept_no|Dept_No_IDx|         dept_name|Departments_IDx|            titles|Titles_IDx|\n",
      "+-------+-----------+------------------+---------------+------------------+----------+\n",
      "|   d005|        0.0|       development|            0.0|   Senior Engineer|       1.0|\n",
      "|   d007|        2.0|             Sales|            2.0|             Staff|       0.0|\n",
      "|   d004|        1.0|        Production|            1.0|   Senior Engineer|       1.0|\n",
      "|   d004|        1.0|        Production|            1.0|   Senior Engineer|       1.0|\n",
      "|   d003|        7.0|   Human Resources|            7.0|             Staff|       0.0|\n",
      "|   d005|        0.0|       development|            0.0|   Senior Engineer|       1.0|\n",
      "|   d008|        4.0|          Research|            4.0|             Staff|       0.0|\n",
      "|   d005|        0.0|       development|            0.0|Assistant Engineer|       5.0|\n",
      "|   d006|        6.0|Quality Management|            6.0|   Senior Engineer|       1.0|\n",
      "|   d006|        6.0|Quality Management|            6.0|          Engineer|       2.0|\n",
      "+-------+-----------+------------------+---------------+------------------+----------+\n",
      "only showing top 10 rows\n",
      "\n"
     ]
    }
   ],
   "source": [
    "# view the transformed data\n",
    "df.select('dept_no','Dept_No_IDx','dept_name', 'Departments_IDx','titles', 'Titles_IDx').show(10)\n"
   ]
  },
  {
   "cell_type": "code",
   "execution_count": 81,
   "metadata": {},
   "outputs": [],
   "source": [
    "from pyspark.ml.feature import OneHotEncoderEstimator\n",
    "# create object and specify input and output column\n",
    "OHE = OneHotEncoderEstimator(inputCols=['Dept_No_IDx','Departments_IDx','Titles_IDx' ],outputCols=['Dept_no_Vector','Departments_Vector','Titles_Vector'])\n",
    "\n",
    "# transform the data\n",
    "df = OHE.fit(df).transform(df)\n",
    "\n"
   ]
  },
  {
   "cell_type": "code",
   "execution_count": 82,
   "metadata": {},
   "outputs": [
    {
     "name": "stdout",
     "output_type": "stream",
     "text": [
      "+-------+-----------+--------------+------------------+---------------+------------------+------------------+----------+-------------+\n",
      "|dept_no|Dept_No_IDx|Dept_no_Vector|         dept_name|Departments_IDx|Departments_Vector|            titles|Titles_IDx|Titles_Vector|\n",
      "+-------+-----------+--------------+------------------+---------------+------------------+------------------+----------+-------------+\n",
      "|   d005|        0.0| (8,[0],[1.0])|       development|            0.0|     (8,[0],[1.0])|   Senior Engineer|       1.0|(6,[1],[1.0])|\n",
      "|   d007|        2.0| (8,[2],[1.0])|             Sales|            2.0|     (8,[2],[1.0])|             Staff|       0.0|(6,[0],[1.0])|\n",
      "|   d004|        1.0| (8,[1],[1.0])|        Production|            1.0|     (8,[1],[1.0])|   Senior Engineer|       1.0|(6,[1],[1.0])|\n",
      "|   d004|        1.0| (8,[1],[1.0])|        Production|            1.0|     (8,[1],[1.0])|   Senior Engineer|       1.0|(6,[1],[1.0])|\n",
      "|   d003|        7.0| (8,[7],[1.0])|   Human Resources|            7.0|     (8,[7],[1.0])|             Staff|       0.0|(6,[0],[1.0])|\n",
      "|   d005|        0.0| (8,[0],[1.0])|       development|            0.0|     (8,[0],[1.0])|   Senior Engineer|       1.0|(6,[1],[1.0])|\n",
      "|   d008|        4.0| (8,[4],[1.0])|          Research|            4.0|     (8,[4],[1.0])|             Staff|       0.0|(6,[0],[1.0])|\n",
      "|   d005|        0.0| (8,[0],[1.0])|       development|            0.0|     (8,[0],[1.0])|Assistant Engineer|       5.0|(6,[5],[1.0])|\n",
      "|   d006|        6.0| (8,[6],[1.0])|Quality Management|            6.0|     (8,[6],[1.0])|   Senior Engineer|       1.0|(6,[1],[1.0])|\n",
      "|   d006|        6.0| (8,[6],[1.0])|Quality Management|            6.0|     (8,[6],[1.0])|          Engineer|       2.0|(6,[2],[1.0])|\n",
      "+-------+-----------+--------------+------------------+---------------+------------------+------------------+----------+-------------+\n",
      "only showing top 10 rows\n",
      "\n"
     ]
    }
   ],
   "source": [
    "# view and transform the data\n",
    "df.select('dept_no','Dept_No_IDx','Dept_no_Vector','dept_name', 'Departments_IDx','Departments_Vector','titles', 'Titles_IDx','Titles_Vector').show(10)"
   ]
  },
  {
   "cell_type": "code",
   "execution_count": 83,
   "metadata": {},
   "outputs": [],
   "source": [
    "#Create vectors from all features column\n",
    "featureCols = continuous_features + ['Dept_no_Vector',\n",
    "                                   'Departments_Vector',\n",
    "                                   'Titles_Vector']"
   ]
  },
  {
   "cell_type": "code",
   "execution_count": 84,
   "metadata": {},
   "outputs": [
    {
     "data": {
      "text/plain": [
       "['no_of_projects',\n",
       " 'salary',\n",
       " 'Dept_no_Vector',\n",
       " 'Departments_Vector',\n",
       " 'Titles_Vector']"
      ]
     },
     "execution_count": 84,
     "metadata": {},
     "output_type": "execute_result"
    }
   ],
   "source": [
    "featureCols"
   ]
  },
  {
   "cell_type": "code",
   "execution_count": 85,
   "metadata": {},
   "outputs": [],
   "source": [
    "assembler = VectorAssembler( inputCols = featureCols, outputCol = \"features\")"
   ]
  },
  {
   "cell_type": "code",
   "execution_count": 86,
   "metadata": {},
   "outputs": [
    {
     "data": {
      "text/plain": [
       "VectorAssembler_d51657903059"
      ]
     },
     "execution_count": 86,
     "metadata": {},
     "output_type": "execute_result"
    }
   ],
   "source": [
    "assembler"
   ]
  },
  {
   "cell_type": "code",
   "execution_count": 87,
   "metadata": {},
   "outputs": [],
   "source": [
    "train_df = assembler.transform( df )"
   ]
  },
  {
   "cell_type": "code",
   "execution_count": 88,
   "metadata": {},
   "outputs": [],
   "source": [
    "#Split the dataset\n",
    "train_df1, test_df = train_df.randomSplit( [0.7, 0.3], seed = 42 )"
   ]
  },
  {
   "cell_type": "code",
   "execution_count": 89,
   "metadata": {},
   "outputs": [],
   "source": [
    "#Build the Linear Regression Model\n",
    "from pyspark.ml.regression import LinearRegression"
   ]
  },
  {
   "cell_type": "code",
   "execution_count": 90,
   "metadata": {},
   "outputs": [
    {
     "name": "stdout",
     "output_type": "stream",
     "text": [
      "+-------+------+------------+----------+----------+-------------+---+----------+--------------+------------------------+-----+----------+------+--------+------------+---------+---------------+-----------+----------+--------------+------------------+-------------+--------------------+\n",
      "|dept_no|emp_no|emp_title_id|birth_date|first_name|    last_name|sex| hire_date|no_of_projects|last_performance_ratings|label| last_date|salary|title_id|      titles|dept_name|Departments_IDx|Dept_No_IDx|Titles_IDx|Dept_no_Vector|Departments_Vector|Titles_Vector|            features|\n",
      "+-------+------+------------+----------+----------+-------------+---+----------+--------------+------------------------+-----+----------+------+--------+------------+---------+---------------+-----------+----------+--------------+------------------+-------------+--------------------+\n",
      "|   d001| 10017|       s0001|07-06-1958| Cristinel|    Bouloucos|  F|08-03-1993|            10|                       A|    0|          | 71380|   s0001|       Staff|Marketing|            5.0|        5.0|       0.0| (8,[5],[1.0])|     (8,[5],[1.0])|(6,[0],[1.0])|(24,[0,1,7,15,18]...|\n",
      "|   d001| 10140|       s0001|03-11-1957|     Yucel|        Auria|  F| 3/14/1991|             2|                       B|    0|          | 61352|   s0001|       Staff|Marketing|            5.0|        5.0|       0.0| (8,[5],[1.0])|     (8,[5],[1.0])|(6,[0],[1.0])|(24,[0,1,7,15,18]...|\n",
      "|   d001| 10175|       s0001|01-11-1960|Aleksandar|    Ananiadou|  F|01-11-1988|             7|                       A|    0|          | 72285|   s0001|       Staff|Marketing|            5.0|        5.0|       0.0| (8,[5],[1.0])|     (8,[5],[1.0])|(6,[0],[1.0])|(24,[0,1,7,15,18]...|\n",
      "|   d001| 10208|       s0001|01-02-1960|    Xiping|       Klerer|  M|12/23/1991|             7|                     PIP|    0|          | 61890|   s0001|       Staff|Marketing|            5.0|        5.0|       0.0| (8,[5],[1.0])|     (8,[5],[1.0])|(6,[0],[1.0])|(24,[0,1,7,15,18]...|\n",
      "|   d001| 10228|       s0001| 4/21/1953|  Karoline|     Cesareni|  F| 8/26/1991|             8|                       B|    0|          | 79474|   s0001|       Staff|Marketing|            5.0|        5.0|       0.0| (8,[5],[1.0])|     (8,[5],[1.0])|(6,[0],[1.0])|(24,[0,1,7,15,18]...|\n",
      "|   d001| 10239|       s0001| 3/31/1955|  Nikolaos|        Llado|  F|05-08-1995|             2|                       B|    0|          | 65146|   s0001|       Staff|Marketing|            5.0|        5.0|       0.0| (8,[5],[1.0])|     (8,[5],[1.0])|(6,[0],[1.0])|(24,[0,1,7,15,18]...|\n",
      "|   d001| 10259|       s0001|11/24/1964|   Susanna|        Vesel|  M| 6/25/1986|             1|                       A|    0|          | 88991|   s0001|       Staff|Marketing|            5.0|        5.0|       0.0| (8,[5],[1.0])|     (8,[5],[1.0])|(6,[0],[1.0])|(24,[0,1,7,15,18]...|\n",
      "|   d001| 10340|       s0001| 8/20/1952|  Djelloul|    Laventhal|  M|06-05-1987|             1|                       C|    1|07-09-1989| 68132|   s0001|       Staff|Marketing|            5.0|        5.0|       0.0| (8,[5],[1.0])|     (8,[5],[1.0])|(6,[0],[1.0])|(24,[0,1,7,15,18]...|\n",
      "|   d001| 10353|       s0002| 1/15/1953|     Phule|Hammerschmidt|  M| 8/24/1989|             1|                       A|    0|          | 62656|   s0002|Senior Staff|Marketing|            5.0|        5.0|       3.0| (8,[5],[1.0])|     (8,[5],[1.0])|(6,[3],[1.0])|(24,[0,1,7,15,21]...|\n",
      "|   d001| 10367|       s0001|12/24/1955| Hyuckchul|         Gini|  M| 6/24/1991|             8|                     PIP|    0|          | 63565|   s0001|       Staff|Marketing|            5.0|        5.0|       0.0| (8,[5],[1.0])|     (8,[5],[1.0])|(6,[0],[1.0])|(24,[0,1,7,15,18]...|\n",
      "|   d001| 10418|       s0001| 6/29/1952|   Candida|  Porotnikoff|  F| 4/20/1989|             6|                       B|    0|          | 52224|   s0001|       Staff|Marketing|            5.0|        5.0|       0.0| (8,[5],[1.0])|     (8,[5],[1.0])|(6,[0],[1.0])|(24,[0,1,7,15,18]...|\n",
      "|   d001| 10449|       s0001| 9/28/1959|Aleksandar|      Sudkamp|  M| 3/28/1987|             1|                       A|    0|          | 55316|   s0001|       Staff|Marketing|            5.0|        5.0|       0.0| (8,[5],[1.0])|     (8,[5],[1.0])|(6,[0],[1.0])|(24,[0,1,7,15,18]...|\n",
      "|   d001| 10499|       s0001|10-04-1953|      Maik|         Luft|  F|11/23/1989|             6|                       A|    0|          | 40000|   s0001|       Staff|Marketing|            5.0|        5.0|       0.0| (8,[5],[1.0])|     (8,[5],[1.0])|(6,[0],[1.0])|(24,[0,1,7,15,18]...|\n",
      "|   d001| 10548|       s0001|06-12-1952|Ramalingam|    Gunderson|  M|05-04-1986|             4|                       B|    0|          | 90631|   s0001|       Staff|Marketing|            5.0|        5.0|       0.0| (8,[5],[1.0])|     (8,[5],[1.0])|(6,[0],[1.0])|(24,[0,1,7,15,18]...|\n",
      "|   d001| 10567|       s0001| 5/21/1957|  Dietrich|      Journel|  M|10/18/1992|             4|                       A|    1|03-08-2003| 43717|   s0001|       Staff|Marketing|            5.0|        5.0|       0.0| (8,[5],[1.0])|     (8,[5],[1.0])|(6,[0],[1.0])|(24,[0,1,7,15,18]...|\n",
      "|   d001| 10591|       s0001|12/22/1952|     Hidde| Hettesheimer|  F| 6/18/1987|             6|                       B|    0|          | 55131|   s0001|       Staff|Marketing|            5.0|        5.0|       0.0| (8,[5],[1.0])|     (8,[5],[1.0])|(6,[0],[1.0])|(24,[0,1,7,15,18]...|\n",
      "|   d001| 10602|       s0001|11/27/1959|    Douadi|      Wossner|  M|03-12-1988|             5|                       B|    0|          | 55058|   s0001|       Staff|Marketing|            5.0|        5.0|       0.0| (8,[5],[1.0])|     (8,[5],[1.0])|(6,[0],[1.0])|(24,[0,1,7,15,18]...|\n",
      "|   d001| 10658|       s0002|11/21/1956|    Junsik|    Rijckaert|  F| 4/29/1994|             3|                       B|    0|          | 60978|   s0002|Senior Staff|Marketing|            5.0|        5.0|       3.0| (8,[5],[1.0])|     (8,[5],[1.0])|(6,[3],[1.0])|(24,[0,1,7,15,21]...|\n",
      "|   d001| 10661|       s0001|04-07-1956|   Ottavia|   Giarratana|  F|01-12-1988|             8|                     PIP|    0|          | 48179|   s0001|       Staff|Marketing|            5.0|        5.0|       0.0| (8,[5],[1.0])|     (8,[5],[1.0])|(6,[0],[1.0])|(24,[0,1,7,15,18]...|\n",
      "|   d001| 10681|       s0001|12/25/1964|   Florina|      Garnier|  M|10/25/1992|             2|                       B|    0|          | 84136|   s0001|       Staff|Marketing|            5.0|        5.0|       0.0| (8,[5],[1.0])|     (8,[5],[1.0])|(6,[0],[1.0])|(24,[0,1,7,15,18]...|\n",
      "+-------+------+------------+----------+----------+-------------+---+----------+--------------+------------------------+-----+----------+------+--------+------------+---------+---------------+-----------+----------+--------------+------------------+-------------+--------------------+\n",
      "only showing top 20 rows\n",
      "\n"
     ]
    }
   ],
   "source": [
    "train_df1.show()"
   ]
  },
  {
   "cell_type": "code",
   "execution_count": 91,
   "metadata": {},
   "outputs": [],
   "source": [
    "#linreg = LinearRegression(maxIter=500, regParam=0.0)\n",
    "linreg = LinearRegression()"
   ]
  },
  {
   "cell_type": "code",
   "execution_count": 92,
   "metadata": {},
   "outputs": [],
   "source": [
    "lm = linreg.fit( train_df1 )"
   ]
  },
  {
   "cell_type": "code",
   "execution_count": 93,
   "metadata": {},
   "outputs": [],
   "source": [
    "#Make predictions on train data and evaluate\n",
    "y_pred_train = lm.transform(train_df1)"
   ]
  },
  {
   "cell_type": "code",
   "execution_count": 94,
   "metadata": {},
   "outputs": [],
   "source": [
    "#Make predictions on test data and evaluate\n",
    "y_pred_test = lm.transform( test_df )"
   ]
  },
  {
   "cell_type": "code",
   "execution_count": 95,
   "metadata": {},
   "outputs": [
    {
     "name": "stdout",
     "output_type": "stream",
     "text": [
      "+--------------------+-----+-------------------+\n",
      "|            features|label|         prediction|\n",
      "+--------------------+-----+-------------------+\n",
      "|(24,[0,1,7,15,18]...|    0| 0.0964186533772929|\n",
      "|(24,[0,1,7,15,21]...|    0|0.09646247880513589|\n",
      "|(24,[0,1,7,15,18]...|    0| 0.0985969575437495|\n",
      "|(24,[0,1,7,15,18]...|    0|0.09970360731312805|\n",
      "|(24,[0,1,7,15,18]...|    0|0.09764217154389557|\n",
      "+--------------------+-----+-------------------+\n",
      "only showing top 5 rows\n",
      "\n"
     ]
    }
   ],
   "source": [
    "y_pred_test.select( 'features',  'label', 'prediction').show( 5 )"
   ]
  },
  {
   "cell_type": "code",
   "execution_count": 96,
   "metadata": {},
   "outputs": [],
   "source": [
    "from pyspark.ml.classification import LogisticRegression\n",
    "from pyspark.ml import Pipeline\n",
    "from pyspark.ml.evaluation import MulticlassClassificationEvaluator"
   ]
  },
  {
   "cell_type": "code",
   "execution_count": 97,
   "metadata": {},
   "outputs": [],
   "source": [
    "from pyspark.ml.classification import GBTClassifier\n",
    "gbt = GBTClassifier(maxIter = 10,featuresCol='features',labelCol='label')\n",
    "GBT_model = gbt.fit(train_df1)\n",
    "\n",
    "predictions = GBT_model.transform(test_df)"
   ]
  },
  {
   "cell_type": "code",
   "execution_count": 98,
   "metadata": {},
   "outputs": [],
   "source": [
    "evaluate=MulticlassClassificationEvaluator(labelCol=\"label\",predictionCol=\"prediction\",metricName=\"accuracy\")"
   ]
  },
  {
   "cell_type": "code",
   "execution_count": 99,
   "metadata": {},
   "outputs": [],
   "source": [
    "accuracy=evaluate.evaluate(predictions)"
   ]
  },
  {
   "cell_type": "code",
   "execution_count": 100,
   "metadata": {},
   "outputs": [
    {
     "data": {
      "text/plain": [
       "0.9007209311691973"
      ]
     },
     "execution_count": 100,
     "metadata": {},
     "output_type": "execute_result"
    }
   ],
   "source": [
    "accuracy"
   ]
  },
  {
   "cell_type": "code",
   "execution_count": 101,
   "metadata": {
    "scrolled": true
   },
   "outputs": [
    {
     "data": {
      "text/plain": [
       "(['dept_name', 'dept_no', 'titles', 'label'], ['no_of_projects', 'salary'])"
      ]
     },
     "execution_count": 101,
     "metadata": {},
     "output_type": "execute_result"
    }
   ],
   "source": [
    "categorical_features,continuous_features"
   ]
  },
  {
   "cell_type": "code",
   "execution_count": 102,
   "metadata": {},
   "outputs": [],
   "source": [
    "indexers = [StringIndexer(inputCol=c,outputCol=\"{}_idx\".format(c)) for c in categorical_features]"
   ]
  },
  {
   "cell_type": "code",
   "execution_count": 103,
   "metadata": {},
   "outputs": [],
   "source": [
    "##encode the categorical features\n",
    "\n",
    "encoders=[OneHotEncoder(inputCol=idx.getOutputCol(),outputCol=\"{0}_enc\".format(idx.getOutputCol())) for idx in indexers]"
   ]
  },
  {
   "cell_type": "code",
   "execution_count": 104,
   "metadata": {},
   "outputs": [],
   "source": [
    "##initiate the linear model\n",
    "\n",
    "lrModel=LogisticRegression(maxIter=10)"
   ]
  },
  {
   "cell_type": "code",
   "execution_count": 105,
   "metadata": {},
   "outputs": [],
   "source": [
    "##create the pipeline with all the above stages\n",
    "\n",
    "pipeline=Pipeline(stages=[\"indexers\",\"encoders\",\"assesmbler\",\"lrModel\"])"
   ]
  },
  {
   "cell_type": "code",
   "execution_count": 106,
   "metadata": {},
   "outputs": [
    {
     "data": {
      "text/plain": [
       "Pipeline_c3cae58d7e47"
      ]
     },
     "execution_count": 106,
     "metadata": {},
     "output_type": "execute_result"
    }
   ],
   "source": [
    "pipeline"
   ]
  },
  {
   "cell_type": "code",
   "execution_count": null,
   "metadata": {},
   "outputs": [],
   "source": []
  },
  {
   "cell_type": "code",
   "execution_count": null,
   "metadata": {},
   "outputs": [],
   "source": []
  },
  {
   "cell_type": "code",
   "execution_count": null,
   "metadata": {},
   "outputs": [],
   "source": []
  },
  {
   "cell_type": "code",
   "execution_count": null,
   "metadata": {},
   "outputs": [],
   "source": []
  },
  {
   "cell_type": "code",
   "execution_count": null,
   "metadata": {},
   "outputs": [],
   "source": []
  }
 ],
 "metadata": {
  "kernelspec": {
   "display_name": "Python 3",
   "language": "python",
   "name": "python3"
  },
  "language_info": {
   "codemirror_mode": {
    "name": "ipython",
    "version": 3
   },
   "file_extension": ".py",
   "mimetype": "text/x-python",
   "name": "python",
   "nbconvert_exporter": "python",
   "pygments_lexer": "ipython3",
   "version": "3.7.6"
  }
 },
 "nbformat": 4,
 "nbformat_minor": 4
}
